{
 "cells": [
  {
   "cell_type": "code",
   "execution_count": 3,
   "metadata": {},
   "outputs": [
    {
     "name": "stderr",
     "output_type": "stream",
     "text": [
      "/Users/jingmengli/Documents/projects/Adverse-News-Screening/.conda/lib/python3.9/site-packages/tqdm/auto.py:21: TqdmWarning: IProgress not found. Please update jupyter and ipywidgets. See https://ipywidgets.readthedocs.io/en/stable/user_install.html\n",
      "  from .autonotebook import tqdm as notebook_tqdm\n",
      "Fetching 8 files: 100%|██████████| 8/8 [00:00<00:00, 87154.37it/s]\n",
      "/Users/jingmengli/Documents/projects/Adverse-News-Screening/.conda/lib/python3.9/site-packages/transformers/convert_slow_tokenizer.py:559: UserWarning: The sentencepiece tokenizer that you are converting to a fast tokenizer uses the byte fallback option which is not implemented in the fast tokenizers. In practice this means that the fast version of the tokenizer can produce unknown tokens whereas the sentencepiece version would have converted these unknown tokens into a sequence of byte tokens matching the original piece of text.\n",
      "  warnings.warn(\n"
     ]
    }
   ],
   "source": [
    "from gliner import GLiNER\n",
    "\n",
    "model = GLiNER.from_pretrained(\"EmergentMethods/gliner_large_news-v2.1\")"
   ]
  },
  {
   "cell_type": "code",
   "execution_count": 4,
   "metadata": {},
   "outputs": [
    {
     "name": "stderr",
     "output_type": "stream",
     "text": [
      "Asking to truncate to max_length but no maximum length is provided and the model has no predefined maximum length. Default to no truncation.\n"
     ]
    },
    {
     "name": "stdout",
     "output_type": "stream",
     "text": [
      "Elizabeth Holmes => person\n",
      "Sam Bankman-Fried => person\n",
      "Elizabeth Holmes => person\n",
      "Sam Bankman-Fried => person\n",
      "fraud charges => legal action\n"
     ]
    }
   ],
   "source": [
    "text = \"\"\"\n",
    "[title]Elizabeth Holmes vs. Sam Bankman-Fried: A Tale of Two CEO Scandals [snippet]Explore the rise and fall of Elizabeth Holmes and Sam Bankman-Fried—two CEOs who built billion-dollar companies before facing fraud charges.\n",
    "\"\"\"\n",
    "\n",
    "labels = [\"person\", \"location\", \"date\", \"event\", \"legal action\", \"organization\"]\n",
    "\n",
    "entities = model.predict_entities(text, labels)\n",
    "\n",
    "for entity in entities:\n",
    "    print(entity[\"text\"], \"=>\", entity[\"label\"])\n"
   ]
  },
  {
   "cell_type": "code",
   "execution_count": 5,
   "metadata": {},
   "outputs": [
    {
     "name": "stdout",
     "output_type": "stream",
     "text": [
      "[\n",
      "    {\n",
      "        \"COMPANY\": [\n",
      "            {\n",
      "                \"entity_name\": \"Theranos\",\n",
      "                \"variations\": []\n",
      "            },\n",
      "            {\n",
      "                \"entity_name\": \"FTX\",\n",
      "                \"variations\": []\n",
      "            }\n",
      "        ],\n",
      "        \"PERSON\": [\n",
      "            {\n",
      "                \"entity_name\": \"Elizabeth Holmes\",\n",
      "                \"variations\": []\n",
      "            },\n",
      "            {\n",
      "                \"entity_name\": \"Sam Bankman-Fried\",\n",
      "                \"variations\": [\"SBF\"]\n",
      "            }\n",
      "        ],\n",
      "        \"FINANCIAL_INSTITUTION\": [],\n",
      "        \"REGULATORY_BODY\": [],\n",
      "        \"PROTENTIAL_CRIME\": [\n",
      "            {\n",
      "                \"entity_name\": \"fraud\",\n",
      "                \"variations\": [\"fraud charges\"]\n",
      "            }\n",
      "        ],\n",
      "        \"LEGAL_ACTION\": [\n",
      "            {\n",
      "                \"entity_name\": \"fraud charges\",\n",
      "                \"variations\": []\n",
      "            }\n",
      "        ],\n",
      "        \"ENFORCEMENT_ACTION\": [],\n",
      "        \"LOCATION\": [],\n",
      "        \"SANCTION_ENTITY\": [],\n",
      "        \"SECTOR\": [],\n",
      "        \"REGULATION\": []\n",
      "    }\n",
      "]\n"
     ]
    }
   ],
   "source": [
    "import os\n",
    "from openai import AzureOpenAI\n",
    "\n",
    "endpoint = \"https://jingm-m98bbo3t-eastus2.openai.azure.com/\"\n",
    "model_name = \"gpt-4o\"\n",
    "deployment = \"gpt-4o-2\"\n",
    "\n",
    "subscription_key = \"532itr5hqsmMemyJtIsccwd02qHG0VivooiY9z25uXBIgWUlFqaVJQQJ99BDACHYHv6XJ3w3AAAAACOGr6DQ\"\n",
    "api_version = \"2024-12-01-preview\"\n",
    "\n",
    "client = AzureOpenAI(\n",
    "    api_version=api_version,\n",
    "    azure_endpoint=endpoint,\n",
    "    api_key=subscription_key,\n",
    ")\n",
    "\n",
    "response = client.chat.completions.create(\n",
    "    messages=[\n",
    "        {\n",
    "            \"role\": \"system\",\n",
    "            \"content\": \"\"\"\n",
    "            You are an expert in extracting named entities from financial news. I will be providing a set of entities and some news articles containing [title] and [snippet], and you will need to extract the entities from the articles. Multiple news articles will be seperated by a newline character.\n",
    "            ## Constraints\n",
    "            1. References to the same entity should be grouped together while all variations should be listed.\n",
    "            2. For each article, the output should be in a dictionary. The dictionary should contain the entities identified from that article, and the fields should include each entity type, entity_name and variations.\n",
    "            3. Return the exact same number of dictionaries as the number of articles nested in a list. The order of the results should follow the order of the articles.\n",
    "            4. The output should be a JSON object. Only return the JSON object, nothing else. Do not include any other strings whatsoever, even it's for formatting.\n",
    "\n",
    "            ## Sample Output\n",
    "            {\n",
    "                \"COMPANY\": [\n",
    "                    {\n",
    "                    \"entity_name\": \"...\",\n",
    "                    \"variations\": [\n",
    "                        \"...\",\n",
    "                    ]\n",
    "                    },\n",
    "                    ...\n",
    "                ],\n",
    "                \"PERSON\": [\n",
    "                    {\n",
    "                    \"entity_name\": \"...\",\n",
    "                    \"variations\": [\n",
    "                        \"...\",\n",
    "                    ]\n",
    "                    },\n",
    "                    ...\n",
    "                ],\n",
    "                \"FINANCIAL_INSTITUTION\": [...],\n",
    "                \"REGULATORY_BODY\": [...],\n",
    "                \"PROTENTIAL_CRIME\": [...],\n",
    "                \"LEGAL_ACTION\": [...],\n",
    "                \"ENFORCEMENT_ACTION\": [...],\n",
    "                \"LOCATION\": [...],\n",
    "                \"SANCTION_ENTITY\": [...],\n",
    "                \"SECTOR\": [...],\n",
    "                \"REGULATION\": [...]\n",
    "                }\n",
    "            \n",
    "            ## Entities\n",
    "            COMPANY: Public or private companies, including subsidiaries.\n",
    "            PERSON: Individuals, especially executives, board members, or other key figures.\n",
    "            FINANCIAL_INSTITUTION: Banks, investment firms, hedge funds, etc.\n",
    "            REGULATORY_BODY: Agencies like SEC, MAS, FCA, etc.\n",
    "            PROTENTIAL_CRIME: Terms indicating potential crime.\n",
    "            LEGAL_ACTION: Mentions of lawsuits, indictments, probes, settlements.\n",
    "            ENFORCEMENT_ACTION: Actions like fines, bans, license suspensions.\n",
    "            LOCATION: Cities, countries—important for sanctions or jurisdiction context.\n",
    "            SANCTION_ENTITY: Country or individual sanctioned or under restrictions.\n",
    "            SECTOR: Industry or economic sector (e.g., \"energy\", \"fintech\").\n",
    "            REGULATION: Names or identifiers of laws or policies (e.g., GDPR, FCPA, Dodd-Frank).\n",
    "            \"\"\"\n",
    "        },\n",
    "        {\n",
    "            \"role\": \"user\",\n",
    "            \"content\": \"\"\"\n",
    "            [title]Elizabeth Holmes vs. Sam Bankman-Fried: A Tale of Two CEO Scandals [snippet]Explore the rise and fall of Elizabeth Holmes and Sam Bankman-Fried—two CEOs who built billion-dollar companies before facing fraud charges.\n",
    "            \"\"\",\n",
    "        }\n",
    "    ],\n",
    "    max_tokens=4096,\n",
    "    temperature=1.0,\n",
    "    top_p=1.0,\n",
    "    model=deployment\n",
    ")\n",
    "\n",
    "print(response.choices[0].message.content)"
   ]
  },
  {
   "cell_type": "code",
   "execution_count": 9,
   "metadata": {},
   "outputs": [
    {
     "data": {
      "text/plain": [
       "openai.types.chat.chat_completion_message.ChatCompletionMessage"
      ]
     },
     "execution_count": 9,
     "metadata": {},
     "output_type": "execute_result"
    }
   ],
   "source": [
    "type(response.choices[0].message)"
   ]
  },
  {
   "cell_type": "code",
   "execution_count": 2,
   "metadata": {},
   "outputs": [
    {
     "data": {
      "text/html": [
       "<div>\n",
       "<style scoped>\n",
       "    .dataframe tbody tr th:only-of-type {\n",
       "        vertical-align: middle;\n",
       "    }\n",
       "\n",
       "    .dataframe tbody tr th {\n",
       "        vertical-align: top;\n",
       "    }\n",
       "\n",
       "    .dataframe thead th {\n",
       "        text-align: right;\n",
       "    }\n",
       "</style>\n",
       "<table border=\"1\" class=\"dataframe\">\n",
       "  <thead>\n",
       "    <tr style=\"text-align: right;\">\n",
       "      <th></th>\n",
       "      <th>Group</th>\n",
       "      <th>Size</th>\n",
       "      <th>Time</th>\n",
       "    </tr>\n",
       "  </thead>\n",
       "  <tbody>\n",
       "    <tr>\n",
       "      <th>0</th>\n",
       "      <td>Moderate</td>\n",
       "      <td>Medium</td>\n",
       "      <td>1</td>\n",
       "    </tr>\n",
       "    <tr>\n",
       "      <th>1</th>\n",
       "      <td>Moderate</td>\n",
       "      <td>Small</td>\n",
       "      <td>1</td>\n",
       "    </tr>\n",
       "    <tr>\n",
       "      <th>2</th>\n",
       "      <td>Short</td>\n",
       "      <td>Small</td>\n",
       "      <td>2</td>\n",
       "    </tr>\n",
       "    <tr>\n",
       "      <th>3</th>\n",
       "      <td>Tall</td>\n",
       "      <td>Large</td>\n",
       "      <td>1</td>\n",
       "    </tr>\n",
       "  </tbody>\n",
       "</table>\n",
       "</div>"
      ],
      "text/plain": [
       "      Group    Size  Time\n",
       "0  Moderate  Medium     1\n",
       "1  Moderate   Small     1\n",
       "2     Short   Small     2\n",
       "3      Tall   Large     1"
      ]
     },
     "execution_count": 2,
     "metadata": {},
     "output_type": "execute_result"
    }
   ],
   "source": [
    "import pandas as pd\n",
    "\n",
    "# load the sample data\n",
    "data = {'Group': ['Short', 'Short', 'Moderate', 'Moderate', 'Tall'], 'Size': ['Small', 'Small', 'Medium', 'Small', 'Large']}\n",
    "df = pd.DataFrame(data)\n",
    "dfg = df.groupby(by=[\"Group\", \"Size\"]).size().reset_index(name=\"Time\")\n",
    "dfg"
   ]
  },
  {
   "cell_type": "code",
   "execution_count": null,
   "metadata": {},
   "outputs": [],
   "source": [
    "[\n",
    "    {\n",
    "        \"COMPANY\": [\n",
    "            {\n",
    "                \"entity_name\": \"Theranos\",\n",
    "                \"variations\": []\n",
    "            },\n",
    "            {\n",
    "                \"entity_name\": \"FTX\",\n",
    "                \"variations\": []\n",
    "            }\n",
    "        ],\n",
    "        \"PERSON\": [\n",
    "            {\n",
    "                \"entity_name\": \"Elizabeth Holmes\",\n",
    "                \"variations\": []\n",
    "            },\n",
    "            {\n",
    "                \"entity_name\": \"Sam Bankman-Fried\",\n",
    "                \"variations\": [\"SBF\"]\n",
    "            }\n",
    "        ],\n",
    "        \"FINANCIAL_INSTITUTION\": [],\n",
    "        \"REGULATORY_BODY\": [],\n",
    "        \"PROTENTIAL_CRIME\": [\n",
    "            {\n",
    "                \"entity_name\": \"fraud\",\n",
    "                \"variations\": [\"fraud charges\"]\n",
    "            }\n",
    "        ],\n",
    "        \"LEGAL_ACTION\": [\n",
    "            {\n",
    "                \"entity_name\": \"fraud charges\",\n",
    "                \"variations\": []\n",
    "            }\n",
    "        ],\n",
    "        \"ENFORCEMENT_ACTION\": [],\n",
    "        \"LOCATION\": [],\n",
    "        \"SANCTION_ENTITY\": [],\n",
    "        \"SECTOR\": [],\n",
    "        \"REGULATION\": []\n",
    "    }\n",
    "]"
   ]
  }
 ],
 "metadata": {
  "kernelspec": {
   "display_name": "Python 3",
   "language": "python",
   "name": "python3"
  },
  "language_info": {
   "codemirror_mode": {
    "name": "ipython",
    "version": 3
   },
   "file_extension": ".py",
   "mimetype": "text/x-python",
   "name": "python",
   "nbconvert_exporter": "python",
   "pygments_lexer": "ipython3",
   "version": "3.9.21"
  }
 },
 "nbformat": 4,
 "nbformat_minor": 2
}
